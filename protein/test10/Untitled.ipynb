{
 "cells": [
  {
   "cell_type": "code",
   "execution_count": 3,
   "metadata": {},
   "outputs": [
    {
     "ename": "IOError",
     "evalue": "[Errno 2] No such file or directory: '2bz6L00.pdb'",
     "output_type": "error",
     "traceback": [
      "\u001b[0;31m---------------------------------------------------------------------------\u001b[0m",
      "\u001b[0;31mIOError\u001b[0m                                   Traceback (most recent call last)",
      "\u001b[0;32m<ipython-input-3-788511851c2f>\u001b[0m in \u001b[0;36m<module>\u001b[0;34m()\u001b[0m\n\u001b[1;32m      1\u001b[0m \u001b[0mfile_Name\u001b[0m \u001b[0;34m=\u001b[0m \u001b[0;34m'2bz6L00.pdb'\u001b[0m\u001b[0;34m\u001b[0m\u001b[0m\n\u001b[1;32m      2\u001b[0m \u001b[0mnew\u001b[0m \u001b[0;34m=\u001b[0m \u001b[0mopen\u001b[0m\u001b[0;34m(\u001b[0m\u001b[0mfile_Name\u001b[0m\u001b[0;34m[\u001b[0m\u001b[0;34m:\u001b[0m\u001b[0mfile_Name\u001b[0m\u001b[0;34m.\u001b[0m\u001b[0mfind\u001b[0m\u001b[0;34m(\u001b[0m\u001b[0;34m'.'\u001b[0m\u001b[0;34m)\u001b[0m\u001b[0;34m]\u001b[0m \u001b[0;34m+\u001b[0m \u001b[0;34m\".csv\"\u001b[0m\u001b[0;34m,\u001b[0m \u001b[0;34m'w'\u001b[0m\u001b[0;34m)\u001b[0m\u001b[0;34m\u001b[0m\u001b[0m\n\u001b[0;32m----> 3\u001b[0;31m \u001b[0morg\u001b[0m \u001b[0;34m=\u001b[0m \u001b[0mopen\u001b[0m\u001b[0;34m(\u001b[0m\u001b[0mfile_Name\u001b[0m\u001b[0;34m,\u001b[0m \u001b[0;34m\"r\"\u001b[0m\u001b[0;34m)\u001b[0m\u001b[0;34m\u001b[0m\u001b[0m\n\u001b[0m\u001b[1;32m      4\u001b[0m SEQ_2_NUM_DIC = {\t'.': 0,\n\u001b[1;32m      5\u001b[0m                   \u001b[0;34m'A'\u001b[0m\u001b[0;34m:\u001b[0m \u001b[0;36m1\u001b[0m\u001b[0;34m,\u001b[0m\u001b[0;34m\u001b[0m\u001b[0m\n",
      "\u001b[0;31mIOError\u001b[0m: [Errno 2] No such file or directory: '2bz6L00.pdb'"
     ]
    }
   ],
   "source": [
    "file_Name = '2bz6L00.pdb'\n",
    "new = open(file_Name[:file_Name.find('.')] + \".csv\", 'w')\n",
    "org = open(file_Name, \"r\")\n",
    "SEQ_2_NUM_DIC = {\t'.': 0,\n",
    "                  'A': 1,\n",
    "                  'R': 2,\n",
    "                  'N': 3,\n",
    "                  'D': 4,\n",
    "                  'C': 5,\n",
    "                  'Q': 6,\n",
    "                  'E': 7,\n",
    "                  'G': 8,\n",
    "                  'H': 9,\n",
    "                  'I': 10,\n",
    "                  'L': 11,\n",
    "                  'K': 12,\n",
    "                  'M': 13,\n",
    "                  'F': 14,\n",
    "                  'P': 15,\n",
    "                  'S': 16,\n",
    "                  'T': 17,\n",
    "                  'W': 18,\n",
    "                  'Y': 19,\n",
    "                  'V': 20}\n",
    "\n",
    "TRIP_2_SING_DIC = {\t'ALA': 'A',\n",
    "                    'ARG': 'R',\n",
    "                    'ASN': 'N',\n",
    "                    'ASP': 'D',\n",
    "                    'CYS': 'C',\n",
    "                    'GLU': 'E',\n",
    "                    'GLN': 'Q',\n",
    "                    'GLY': 'G',\n",
    "                    'HIS': 'H',\n",
    "                    'ILE': 'I',\n",
    "                    'LEU': 'L',\n",
    "                    'LYS': 'K',\n",
    "                    'MET': 'M',\n",
    "                    'PHE': 'F',\n",
    "                    'PRO': 'P',\n",
    "                    'SER': 'S',\n",
    "                    'THR': 'T',\n",
    "                    'TRP': 'W',\n",
    "                    'TYR': 'Y',\n",
    "                    'VAL': 'V'}\n",
    "\n"
   ]
  },
  {
   "cell_type": "code",
   "execution_count": null,
   "metadata": {
    "collapsed": true
   },
   "outputs": [],
   "source": []
  }
 ],
 "metadata": {
  "kernelspec": {
   "display_name": "Python 2",
   "language": "python",
   "name": "python2"
  },
  "language_info": {
   "codemirror_mode": {
    "name": "ipython",
    "version": 2
   },
   "file_extension": ".py",
   "mimetype": "text/x-python",
   "name": "python",
   "nbconvert_exporter": "python",
   "pygments_lexer": "ipython2",
   "version": "2.7.14"
  }
 },
 "nbformat": 4,
 "nbformat_minor": 2
}
